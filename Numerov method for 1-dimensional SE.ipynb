{
 "cells": [
  {
   "cell_type": "markdown",
   "id": "764cf89a-00e7-461e-8acc-6ad5396b2f6a",
   "metadata": {},
   "source": [
    "\n",
    "# Numerical Solution to solve one-dimensional Schrödinger equation for eigenvalues and eigenfunctions.\n",
    "\n",
    "## The explanation below uses the Numerov Method to solve the problem\n",
    "\n",
    "The task is involves solving the one-dimensional Schrödinger equation for eigenvalues and eigenfunctions. The equation is:\n",
    "\n",
    "$$\n",
    "-\\frac{\\hbar^2}{2m} \\frac{d^2 \\psi(x)}{dx^2} + V(x) \\psi(x) = E \\psi(x)\n",
    "$$\n",
    "\n",
    "where:\n",
    "\n",
    "$m$ is the particle mass,  \n",
    "$\\hbar$ is the reduced Planck constant,  \n",
    "$E$ is the energy eigenvalue,    \n",
    "$ψ(x)$ is the wavefunction, and    \n",
    "$V(x)$ is the potential.\n",
    "\n",
    "The task here is to solve for the energy eigenvalues $E_n$ and corresponding wavefunctions $ψ(x)$ for a particle confined in a potential well.\n"
   ]
  },
  {
   "cell_type": "markdown",
   "id": "ff7d0c3b-856f-4cd0-aca9-c4e73ead5f05",
   "metadata": {},
   "source": [
    "# Numerical solution using the Numerov Algorithm\n",
    "\n",
    "Transformation:\n",
    "The equation is rewritten in the form:\n",
    "\n",
    "$$\n",
    "\\psi''(x) + \\frac{2m}{\\hbar^2}[E-V(x)]\\psi(x)=0\n",
    "$$  \n",
    "\n",
    "which resembles a linear shooting problem.\n",
    "\n",
    "Key Steps:\n",
    "1. Numerov Algorithm:  \n",
    "Integrate the Schrödinger equation using the Numerov method, which is a finite difference scheme known for its accuracy in solving second-order linear differential equations. Integration is performed separately from the left and right, with matching at a turning point $x_0$ in the potential well.\n",
    "  \n",
    "3. Boundary conditions:  \n",
    "   The wavefunction $𝜓$ approaches zero as $∣x∣→∞$\n",
    "   Matching conditions $x_0$ at ensure continuity at:\n",
    "$$\n",
    "\\psi_L(x_0) = \\psi_R(x_0),\\,\\psi'_L(x_0)=\\psi'_R(x_0)\n",
    "$$  \n",
    "4. Root Search for Eigenvalues:  \n",
    "A function $f(E)$ is derived to test whether a trial eigenvalue $𝐸$ satisfies the continuity condition. The root of $f(E)$ corresponds to an eigenvalue.  \n",
    "Numerical root-finding techniques (e.g., bisection or secant method) are applied.\n",
    "\n",
    "4. Potential function:\n",
    "The given potential $V(x)$ is:\n",
    "$$\n",
    "V(x) = \\frac{\\hbar^2}{2m}\\alpha^2\\lambda(\\lambda-1)[ \\frac{1}{2} - \\frac{1}{cosh^2(\\alpha x)}],\n",
    "$$  \n",
    "with parameters $\\alpha=1,\\,\\lambda=4$ and $\\hbar=m=1$ for simplicity\n",
    "\n",
    "5. Exact Eigenvalues:\n",
    "\n",
    "The exact eigenvalues for this potential are: \n",
    "$$\n",
    "E_n = \\frac{\\hbar^2}{2m}\\alpha^2[\\frac{\\lambda(\\lambda-1)}{2} - (\\lambda-1-n)^2],\n",
    "$$ \n",
    "\n",
    "for $n$ = 0, 1, 2, 3 ...,"
   ]
  },
  {
   "cell_type": "markdown",
   "id": "62cc2723-ac71-4b56-948f-bc13e18cd19a",
   "metadata": {},
   "source": [
    "## Step 1: Problem set-up \n",
    "\n",
    "Initialization of constants, the potential function, and numerical parameters to solve the Schrödinger equation.  \n",
    "Constants ℏ, m, α, λ are defined.  \n",
    "Potential Function: $V(x) = \\frac{\\hbar^2}{2m}\\alpha^2\\lambda(\\lambda-1)[0.5 - \\frac{1}{cosh^2(\\alpha x)}]$  \n",
    "Numerical Parameters:\n",
    "$𝑥_min,\\,𝑥_max$ : Domain bounds.  \n",
    "$𝑛$ points : Number of points for discretization.  \n",
    "$dx$: Step size for the grid.  \n",
    "\n",
    "Code section:"
   ]
  },
  {
   "cell_type": "code",
   "execution_count": 9,
   "id": "578d8850-ea2e-4c53-83a8-952e7f965dcd",
   "metadata": {},
   "outputs": [],
   "source": [
    "#Tirunavavakarasu Amiratharaju\n",
    "#23.12.2024\n",
    "#Numerov method to solve 1-dimensional SE\n",
    "import numpy as np\n",
    "import matplotlib.pyplot as plt\n",
    "from scipy.optimize import bisect\n",
    "\n",
    "# Constants\n",
    "hbar = 1\n",
    "m = 1\n",
    "alpha = 1\n",
    "lam = 4\n",
    "\n",
    "# Potential function\n",
    "def potential(x):\n",
    "    return (hbar**2 / (2 * m)) * alpha**2 * lam * (lam - 1) * (0.5 - 1 / np.cosh(alpha * x)**2)\n",
    "\n",
    "\n"
   ]
  },
  {
   "cell_type": "markdown",
   "id": "5d049f13-d635-4aed-aafd-9f2edfeb29ff",
   "metadata": {},
   "source": [
    "## Step 2: Numerical Integration using Numerov Algorithm \n",
    "\n",
    "The Numerov algorithm computes the wavefunction $ψ(x)$ for a trial energy \n",
    "𝐸 using finite difference integration. It evaluates $k(x)= \\frac{2m}{\\hbar^2} [E-V(x)]$ and updates $\\psi(x)$ using:\n",
    "\n",
    "$$\n",
    "\\psi_{i+1} = \\frac{2\\left(1 - \\frac{5}{12} k_i \\Delta x^2 \\right) \\psi_i - \\left(1 + \\frac{1}{12} k_i - \\Delta x^2 \\right) \\psi_{i+1}}{1 + \\frac{1}{12} k_{i+1} + \\Delta x^2}\n",
    "$$  \n",
    "Code section:"
   ]
  },
  {
   "cell_type": "code",
   "execution_count": 10,
   "id": "68f04d9f-983e-4851-81ff-e63f00d3f9f1",
   "metadata": {},
   "outputs": [],
   "source": [
    "# Numerov algorithm\n",
    "def numerov_integration(E, x, dx, psi_start, psi_next):\n",
    "    psi = np.zeros_like(x)\n",
    "    psi[0], psi[1] = psi_start, psi_next\n",
    "    k = 2 * m / hbar**2 * (E - potential(x))\n",
    "    \n",
    "    for i in range(1, len(x) - 1):\n",
    "        psi[i + 1] = (2 * (1 - 5 * dx**2 * k[i] / 12) * psi[i] - (1 + dx**2 * k[i - 1] / 12) * psi[i - 1]) / (1 + dx**2 * k[i + 1] / 12)\n",
    "    return psi\n"
   ]
  },
  {
   "cell_type": "markdown",
   "id": "4342ebde-3876-445c-ae00-5f08c43d882a",
   "metadata": {},
   "source": [
    "# Step 3: Matching Boundary Conditions\n",
    "Wavefunctions $ψ(x)$ are computed from both sides:\n",
    "\n",
    "Left Integration: From $𝑥_{min}$ to $𝑥_{match}$\n",
    "\n",
    "Right Integration: From $x_{max}$ to $𝑥_{match}$ (reversed order).\n",
    "\n",
    "At $𝑥_{match}$, the wavefunctions and their derivatives are matched. The function matching_function calculates:\n",
    "\n",
    "$𝑓(𝐸)=𝜓_{left}(𝑥_{match}) − 𝜓_{right}(𝑥_{match}),$\n",
    "\n",
    "Code Section:"
   ]
  },
  {
   "cell_type": "code",
   "execution_count": 12,
   "id": "20cf90f5-ba18-4dad-b7e2-4a00ed0c801e",
   "metadata": {},
   "outputs": [],
   "source": [
    "# Matching function\n",
    "def matching_function(E):\n",
    "    # Left integration\n",
    "    x_left = np.linspace(x_min, x_match, n_points)\n",
    "    psi_left = numerov_integration(E, x_left, dx, psi_start=0, psi_next=1e-5)\n",
    "    \n",
    "    # Right integration\n",
    "    x_right = np.linspace(x_max, x_match, n_points)[::-1]\n",
    "    psi_right = numerov_integration(E, x_right, dx, psi_start=0, psi_next=1e-5)\n",
    "    \n",
    "    # Match wavefunction and derivatives at x_match\n",
    "    left_value = psi_left[-1]\n",
    "    right_value = psi_right[-1]\n",
    "    left_derivative = (psi_left[-1] - psi_left[-2]) / dx\n",
    "    right_derivative = (psi_right[-1] - psi_right[-2]) / dx\n",
    "    return left_value - right_value, left_derivative - right_derivative\n"
   ]
  },
  {
   "cell_type": "markdown",
   "id": "557dafca-25cd-412e-b9e1-b7fe3937dbb2",
   "metadata": {},
   "source": [
    "# Step 4: Root Finding for Eigenvalues\n",
    "The eigenvalues $E_n$ are determined by finding roots of $f(E)$.\n",
    "\n",
    "Debugging:\n",
    "Prints $𝑓(𝐸_{low})$ and $𝑓(𝐸_{high})$ to verify sign changes.Broadens the search interval if necessary.\n",
    "Bisection ensures $𝑓(𝐸)$ crosses zero in the interval."
   ]
  },
  {
   "cell_type": "code",
   "execution_count": 17,
   "id": "9a8a9d06-a89a-4b66-99f1-66dda38f9c15",
   "metadata": {},
   "outputs": [
    {
     "name": "stdout",
     "output_type": "stream",
     "text": [
      "Checking interval [0, 1] for root...\n",
      "matching_function(0) = 5.770321174808487\n",
      "matching_function(1) = 0.08045522433047836\n",
      "No root found in [0, 1]. Broadening interval...\n",
      "New interval: [0, 2], matching_function(2) = -0.0005526690173836002\n",
      "Checking interval [1, 2] for root...\n",
      "matching_function(1) = 0.08045522433047836\n",
      "matching_function(2) = -0.0005526690173836002\n",
      "Checking interval [2, 3] for root...\n",
      "matching_function(2) = -0.0005526690173836002\n",
      "matching_function(3) = 3.5148438253364625e-07\n",
      "Checking interval [3, 4] for root...\n",
      "matching_function(3) = 3.5148438253364625e-07\n",
      "matching_function(4) = -5.636914597449043e-08\n"
     ]
    }
   ],
   "source": [
    "# Parameters\n",
    "x_min = -5\n",
    "x_max = 5\n",
    "x_match = 0\n",
    "n_points = 1000\n",
    "dx = (x_max - x_min) / n_points\n",
    "\n",
    "# Solve for eigenvalues\n",
    "eigenvalues = []\n",
    "eigenfunctions = []\n",
    "\n",
    "for n in range(4):  # Compute the first 4 eigenvalues\n",
    "    E_low, E_high = n, n + 1\n",
    "    print(f\"Checking interval [{E_low}, {E_high}] for root...\")\n",
    "    \n",
    "    # Debugging: Check matching_function values at endpoints\n",
    "    try:\n",
    "        f_low = matching_function(E_low)[0]\n",
    "        f_high = matching_function(E_high)[0]\n",
    "        print(f\"matching_function({E_low}) = {f_low}\")\n",
    "        print(f\"matching_function({E_high}) = {f_high}\")\n",
    "        \n",
    "        if f_low * f_high > 0:  # If same signs, broaden the interval\n",
    "            print(f\"No root found in [{E_low}, {E_high}]. Broadening interval...\")\n",
    "            E_high = n + 2\n",
    "            f_high = matching_function(E_high)[0]\n",
    "            print(f\"New interval: [{E_low}, {E_high}], matching_function({E_high}) = {f_high}\")\n",
    "    except Exception as e:\n",
    "        print(f\"Error evaluating matching_function: {e}\")\n",
    "        continue\n",
    "    \n",
    "    # Solve using bisection\n",
    "    try:\n",
    "        E_n = bisect(lambda E: matching_function(E)[0], E_low, E_high)\n",
    "        eigenvalues.append(E_n)\n",
    "    except ValueError as ve:\n",
    "        print(f\"Failed to find root in interval [{E_low}, {E_high}]: {ve}\")\n",
    "        continue\n",
    "    \n",
    "    # Compute the corresponding eigenfunction\n",
    "    x = np.linspace(x_min, x_max, n_points)\n",
    "    psi = numerov_integration(E_n, x, dx, psi_start=0, psi_next=1e-5)\n",
    "    eigenfunctions.append(psi)\n"
   ]
  },
  {
   "cell_type": "markdown",
   "id": "6f38106c-6838-4049-8907-32b302e03978",
   "metadata": {},
   "source": [
    "## Step 5: Eigenfunctions and Exact Solution\n",
    "After obtaining eigenvalues $𝐸_n$, corresponding eigenfunctions $𝜓(𝑥)$ are computed using the Numerov algorithm. The exact eigenvalues are also calculated for comparison.\n",
    "\n",
    "Code Section:"
   ]
  },
  {
   "cell_type": "code",
   "execution_count": 15,
   "id": "f495695e-f28e-4128-a0f9-e06e7a05a859",
   "metadata": {},
   "outputs": [],
   "source": [
    "# Exact eigenvalues\n",
    "def exact_eigenvalues(n):\n",
    "    return (hbar**2 / (2 * m)) * alpha**2 * (lam * (lam - 1) / 2 - (lam - 1 - n)**2)\n",
    "\n",
    "exact_values = [exact_eigenvalues(n) for n in range(4)]\n"
   ]
  },
  {
   "cell_type": "markdown",
   "id": "96b12333-d9eb-4da4-a9c5-abe50089c799",
   "metadata": {},
   "source": [
    "## Step 6: Visualization\n",
    "Eigenfunctions are plotted and shifted vertically by their eigenvalues for clarity. Results are printed and visualized for interpretation.\n",
    "\n",
    "Code Section:"
   ]
  },
  {
   "cell_type": "code",
   "execution_count": 18,
   "id": "4f4df328-b253-4ecc-85c2-84fae1e0e16d",
   "metadata": {},
   "outputs": [
    {
     "name": "stdout",
     "output_type": "stream",
     "text": [
      "\n",
      "Computed Eigenvalues:\n",
      "E_0 = 1.518430\n",
      "E_1 = 1.518430\n",
      "E_2 = 2.740622\n",
      "E_3 = 3.879011\n",
      "\n",
      "Exact Eigenvalues:\n",
      "E_0 = -1.500000\n",
      "E_1 = 1.000000\n",
      "E_2 = 2.500000\n",
      "E_3 = 3.000000\n"
     ]
    },
    {
     "data": {
      "image/png": "[encoded data removed]",
      "text/plain": [
       "<Figure size 1000x600 with 1 Axes>"
      ]
     },
     "metadata": {},
     "output_type": "display_data"
    }
   ],
   "source": [
    "# Output results\n",
    "print(\"\\nComputed Eigenvalues:\")\n",
    "for i, E in enumerate(eigenvalues):\n",
    "    print(f\"E_{i} = {E:.6f}\")\n",
    "\n",
    "print(\"\\nExact Eigenvalues:\")\n",
    "for i, E in enumerate(exact_values):\n",
    "    print(f\"E_{i} = {E:.6f}\")\n",
    "\n",
    "# Plot eigenfunctions\n",
    "plt.figure(figsize=(10, 6))\n",
    "for i, psi in enumerate(eigenfunctions):\n",
    "    plt.plot(x, psi + eigenvalues[i], label=f\"n={i} (E={eigenvalues[i]:.2f})\")\n",
    "plt.title(\"Eigenfunctions and Eigenvalues\")\n",
    "plt.xlabel(\"x\")\n",
    "plt.ylabel(\"ψ(x)\")\n",
    "plt.legend()\n",
    "plt.grid()\n",
    "plt.show()"
   ]
  },
  {
   "cell_type": "markdown",
   "id": "4e015d6d-e046-4c48-8f4f-dbf2029fbb51",
   "metadata": {},
   "source": [
    "## Summary of the solution\n",
    "\n",
    "1. Define constants, the potential, and the Numerov algorithm for wavefunction integration.\n",
    "2. Match the wavefunctions from both sides at $𝑥_{match}$ using $f(E)$.\n",
    "3. Refine eigenvalues $𝐸_𝑛$ using the bisection method with debugging to handle errors and broaden intervals if needed.\n",
    "4. Compute eigenfunctions and compares numerical eigenvalues with exact ones.\n",
    "5. Visualize the eigenfunctions and eigenvalues for interpretation."
   ]
  },
  {
   "cell_type": "markdown",
   "id": "247c69e4-e9a5-468c-a7e6-993f606990ad",
   "metadata": {},
   "source": [
    "## Explanation of the Graph and Values:  \n",
    "\n",
    "Graph: The graph shows the computed eigenfunctions $ψ(x)$ for various quantum states n as a function of position 𝑥 The legend indicates the energy levels $𝐸_n$ corresponding to each eigenfunction.\n",
    "For higher 𝑛 the eigenfunctions tend to oscillate more, as expected for quantum systems.\n",
    "However, there appears to be an issue with normalization or scaling of the eigenfunctions, as the values grow unexpectedly large for certain states for example, 𝑛=1.\n",
    "\n",
    "Physical Meaning:\n",
    "Eigenvalues, $E_n$: Represent the quantized energy levels of the system. Exact values are intrinsic to the system, while computed values are approximations.\n",
    "Eigenfunctions, $ψ(x)$: Describe the probability amplitude of finding a particle at position x for each energy level. They must be finite, continuous, and normalized."
   ]
  },
  {
   "cell_type": "code",
   "execution_count": null,
   "id": "9214f885-c5a7-479d-a5f0-082afb8301f0",
   "metadata": {},
   "outputs": [],
   "source": []
  }
 ],
 "metadata": {
  "kernelspec": {
   "display_name": "Python 3 (ipykernel)",
   "language": "python",
   "name": "python3"
  },
  "language_info": {
   "codemirror_mode": {
    "name": "ipython",
    "version": 3
   },
   "file_extension": ".py",
   "mimetype": "text/x-python",
   "name": "python",
   "nbconvert_exporter": "python",
   "pygments_lexer": "ipython3",
   "version": "3.12.7"
  }
 },
 "nbformat": 4,
 "nbformat_minor": 5
}
